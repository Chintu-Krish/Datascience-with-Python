{
 "cells": [
  {
   "cell_type": "markdown",
   "id": "384227e4",
   "metadata": {},
   "source": [
    "### Proj 01 a. Python program to design a Simple Calculator"
   ]
  },
  {
   "cell_type": "code",
   "execution_count": 1,
   "id": "9b97bca3",
   "metadata": {},
   "outputs": [
    {
     "name": "stdout",
     "output_type": "stream",
     "text": [
      "Select the operation: \n",
      "Type a for Addition \n",
      "Type s for Subtraction \n",
      "Type m for Multiplication \n",
      "Type d for Division\n",
      "Enter the operation (a/s/m/d): a\n",
      "Enter the first number: 2\n",
      "Enter the second number: 3\n",
      "2 + 3 = 5\n"
     ]
    }
   ],
   "source": [
    "def add(a,b):\n",
    "    return a+b\n",
    "def sub(a,b):\n",
    "    return a-b\n",
    "def mul(a,b):\n",
    "    return a*b\n",
    "def div(a,b):\n",
    "    return a/b\n",
    "print(\"Select the operation: \\nType a for Addition \\nType s for Subtraction \\nType m for Multiplication \\nType d for Division\")\n",
    "choice=input(\"Enter the operation (a/s/m/d): \")\n",
    "a=int(input(\"Enter the first number: \"))\n",
    "b=int(input(\"Enter the second number: \"))\n",
    "if choice==\"a\":\n",
    "    print(a,\"+\",b,\"=\",add(a,b))\n",
    "elif choice==\"s\":\n",
    "    print(a,\"-\",b,\"=\",sub(a,b))\n",
    "elif choice==\"m\":\n",
    "    print(a,\"*\",b,\"=\",mul(a,b))\n",
    "elif choice==\"d\":\n",
    "    print(a,\"/\",b,\"=\",div(a,b))\n",
    "else:\n",
    "    print(\"Enter a valid choice\")"
   ]
  },
  {
   "cell_type": "markdown",
   "id": "33df5dea",
   "metadata": {},
   "source": [
    "### Proj 01 b. Python program to find the factorial of a  number"
   ]
  },
  {
   "cell_type": "code",
   "execution_count": 9,
   "id": "569ae11c",
   "metadata": {},
   "outputs": [],
   "source": [
    "## Using function:"
   ]
  },
  {
   "cell_type": "code",
   "execution_count": 12,
   "id": "44eced99",
   "metadata": {},
   "outputs": [],
   "source": [
    "def factorial(x):\n",
    "    fact = 1\n",
    "    if x==0:\n",
    "        print(\"Factorial of 0 is 1\")\n",
    "    elif x<0:\n",
    "        print(\"Factorial doesn't exist for negative number\")\n",
    "    else:\n",
    "        for i in range (1,x+1):\n",
    "            fact=fact*i\n",
    "        print(\"Factorial of\",x,\"is\", fact)"
   ]
  },
  {
   "cell_type": "code",
   "execution_count": 13,
   "id": "366cca2d",
   "metadata": {},
   "outputs": [
    {
     "name": "stdout",
     "output_type": "stream",
     "text": [
      "Factorial of 5 is 120\n"
     ]
    }
   ],
   "source": [
    "factorial(5)"
   ]
  },
  {
   "cell_type": "code",
   "execution_count": 9,
   "id": "5cf6ba6f",
   "metadata": {},
   "outputs": [],
   "source": [
    "## Without function:"
   ]
  },
  {
   "cell_type": "code",
   "execution_count": 2,
   "id": "2c9e3e14",
   "metadata": {},
   "outputs": [
    {
     "name": "stdout",
     "output_type": "stream",
     "text": [
      "Enter a number: 4\n",
      "Factorial of 4 is 24\n"
     ]
    }
   ],
   "source": [
    "a=int(input(\"Enter a number: \"))\n",
    "fact = 1\n",
    "if a==0:\n",
    "    print(\"Factorial of 0 is 1\")\n",
    "elif a<0:\n",
    "    print(\"Factorial doesn't exist for negative number\")\n",
    "else:\n",
    "    for i in range (1,a+1):\n",
    "        fact=fact*i\n",
    "    print(\"Factorial of\",a,\"is\", fact)"
   ]
  },
  {
   "cell_type": "markdown",
   "id": "7c9f13d0",
   "metadata": {},
   "source": [
    "### Proj 02. Python program to demonstrate the methods of a dictionary.\n",
    "\n",
    "#### 1. Create a dictionary named “student”.\n",
    "#### 2. Add the following details to the dictionary “student”.\n",
    "#### Name\n",
    "#### Age\n",
    "#### Department\n",
    "#### 3. Add a new key named “Marks” to the dictionary “student”. Enter 5 values.\n",
    "#### 4. Update the key value of “Age”.\n",
    "#### 5. Delete ‘Age’ from the dictionary “student”.\n",
    "#### 6. Print the keys of the dictionary “student”.\n",
    "#### 7. Print the values of the dictionary “student”.\n",
    "#### 8. Print the key value pairs of the dictionary “student”.\n",
    "#### 9. Delete the dictionary “student”."
   ]
  },
  {
   "cell_type": "code",
   "execution_count": 20,
   "id": "8a7b70bd",
   "metadata": {},
   "outputs": [
    {
     "data": {
      "text/plain": [
       "{}"
      ]
     },
     "execution_count": 20,
     "metadata": {},
     "output_type": "execute_result"
    }
   ],
   "source": [
    "## 1. Create a dictionary named “student”.\n",
    "\n",
    "student={}\n",
    "student"
   ]
  },
  {
   "cell_type": "code",
   "execution_count": 21,
   "id": "fdae635b",
   "metadata": {},
   "outputs": [
    {
     "data": {
      "text/plain": [
       "{'Name': 'Priyanka', 'Age': 23, 'Department': 'EIE'}"
      ]
     },
     "execution_count": 21,
     "metadata": {},
     "output_type": "execute_result"
    }
   ],
   "source": [
    "## 2. Add the following details to the dictionary “student”.\n",
    "##Name\n",
    "## Age\n",
    "## Department\n",
    "\n",
    "student={\"Name\":\"Priyanka\",\"Age\":23,\"Department\":\"EIE\"}\n",
    "student"
   ]
  },
  {
   "cell_type": "code",
   "execution_count": 22,
   "id": "07d01ad7",
   "metadata": {},
   "outputs": [
    {
     "data": {
      "text/plain": [
       "{'Name': 'Priyanka',\n",
       " 'Age': 23,\n",
       " 'Department': 'EIE',\n",
       " 'Marks': (97, 92, 88, 93, 75)}"
      ]
     },
     "execution_count": 22,
     "metadata": {},
     "output_type": "execute_result"
    }
   ],
   "source": [
    "## 3. Add a new key named “Marks” to the dictionary “student”. Enter 5 values.\n",
    "\n",
    "student[\"Marks\"]=97,92,88,93,75\n",
    "student"
   ]
  },
  {
   "cell_type": "code",
   "execution_count": 23,
   "id": "8fb4ff63",
   "metadata": {},
   "outputs": [
    {
     "data": {
      "text/plain": [
       "{'Name': 'Priyanka',\n",
       " 'Age': 20,\n",
       " 'Department': 'EIE',\n",
       " 'Marks': (97, 92, 88, 93, 75)}"
      ]
     },
     "execution_count": 23,
     "metadata": {},
     "output_type": "execute_result"
    }
   ],
   "source": [
    "## 4. Update the key value of “Age”.\n",
    "\n",
    "student[\"Age\"]=20\n",
    "student"
   ]
  },
  {
   "cell_type": "code",
   "execution_count": 24,
   "id": "c5536fd2",
   "metadata": {},
   "outputs": [
    {
     "data": {
      "text/plain": [
       "{'Name': 'Priyanka', 'Department': 'EIE', 'Marks': (97, 92, 88, 93, 75)}"
      ]
     },
     "execution_count": 24,
     "metadata": {},
     "output_type": "execute_result"
    }
   ],
   "source": [
    "## 5. Delete ‘Age’ from the dictionary “student”.\n",
    "\n",
    "del student[\"Age\"]\n",
    "student"
   ]
  },
  {
   "cell_type": "code",
   "execution_count": 25,
   "id": "62150bde",
   "metadata": {},
   "outputs": [
    {
     "name": "stdout",
     "output_type": "stream",
     "text": [
      "Name\n",
      "Department\n",
      "Marks\n"
     ]
    }
   ],
   "source": [
    "## 6. Print the keys of the dictionary “student”.\n",
    "\n",
    "for x in student:\n",
    "    print(x)"
   ]
  },
  {
   "cell_type": "code",
   "execution_count": 26,
   "id": "3926bfe1",
   "metadata": {},
   "outputs": [
    {
     "name": "stdout",
     "output_type": "stream",
     "text": [
      "Priyanka\n",
      "EIE\n",
      "(97, 92, 88, 93, 75)\n"
     ]
    }
   ],
   "source": [
    "## 7. Print the values of the dictionary “student”.\n",
    "\n",
    "for x in student:\n",
    "    print(student[x])"
   ]
  },
  {
   "cell_type": "code",
   "execution_count": 27,
   "id": "a18c0ebd",
   "metadata": {
    "scrolled": true
   },
   "outputs": [
    {
     "name": "stdout",
     "output_type": "stream",
     "text": [
      "Priyanka\n",
      "EIE\n",
      "(97, 92, 88, 93, 75)\n"
     ]
    }
   ],
   "source": [
    "## 7. Print the values of the dictionary “student”. (second method)\n",
    "\n",
    "for x in student.values():\n",
    "    print(x)"
   ]
  },
  {
   "cell_type": "code",
   "execution_count": 28,
   "id": "cb909e7d",
   "metadata": {},
   "outputs": [
    {
     "name": "stdout",
     "output_type": "stream",
     "text": [
      "('Name', 'Priyanka')\n",
      "('Department', 'EIE')\n",
      "('Marks', (97, 92, 88, 93, 75))\n"
     ]
    }
   ],
   "source": [
    "## 8. Print the key value pairs of the dictionary “student”.\n",
    "\n",
    "for x in student.items():\n",
    "    print(x)"
   ]
  },
  {
   "cell_type": "code",
   "execution_count": 29,
   "id": "662ada2c",
   "metadata": {},
   "outputs": [
    {
     "ename": "NameError",
     "evalue": "name 'student' is not defined",
     "output_type": "error",
     "traceback": [
      "\u001b[1;31m---------------------------------------------------------------------------\u001b[0m",
      "\u001b[1;31mNameError\u001b[0m                                 Traceback (most recent call last)",
      "\u001b[1;32m<ipython-input-29-1945d9678e18>\u001b[0m in \u001b[0;36m<module>\u001b[1;34m\u001b[0m\n\u001b[0;32m      2\u001b[0m \u001b[1;33m\u001b[0m\u001b[0m\n\u001b[0;32m      3\u001b[0m \u001b[1;32mdel\u001b[0m \u001b[0mstudent\u001b[0m\u001b[1;33m\u001b[0m\u001b[1;33m\u001b[0m\u001b[0m\n\u001b[1;32m----> 4\u001b[1;33m \u001b[0mstudent\u001b[0m\u001b[1;33m\u001b[0m\u001b[1;33m\u001b[0m\u001b[0m\n\u001b[0m",
      "\u001b[1;31mNameError\u001b[0m: name 'student' is not defined"
     ]
    }
   ],
   "source": [
    "## 9. Delete the dictionary “student”.\n",
    "\n",
    "del student\n",
    "student"
   ]
  },
  {
   "cell_type": "code",
   "execution_count": null,
   "id": "e9b11961",
   "metadata": {},
   "outputs": [],
   "source": []
  }
 ],
 "metadata": {
  "kernelspec": {
   "display_name": "Python 3",
   "language": "python",
   "name": "python3"
  },
  "language_info": {
   "codemirror_mode": {
    "name": "ipython",
    "version": 3
   },
   "file_extension": ".py",
   "mimetype": "text/x-python",
   "name": "python",
   "nbconvert_exporter": "python",
   "pygments_lexer": "ipython3",
   "version": "3.8.8"
  }
 },
 "nbformat": 4,
 "nbformat_minor": 5
}
