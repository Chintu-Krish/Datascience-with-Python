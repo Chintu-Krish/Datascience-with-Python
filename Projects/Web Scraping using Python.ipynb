{
 "cells": [
  {
   "cell_type": "code",
   "execution_count": 1,
   "id": "777d3140",
   "metadata": {},
   "outputs": [],
   "source": [
    "import requests"
   ]
  },
  {
   "cell_type": "code",
   "execution_count": 2,
   "id": "e82d6176",
   "metadata": {
    "scrolled": true
   },
   "outputs": [],
   "source": [
    "link=\"https://www.worldometers.info/coronavirus/\""
   ]
  },
  {
   "cell_type": "code",
   "execution_count": 3,
   "id": "dadf36b3",
   "metadata": {},
   "outputs": [],
   "source": [
    "data=requests.get(link).text"
   ]
  },
  {
   "cell_type": "code",
   "execution_count": 4,
   "id": "52e80eb0",
   "metadata": {},
   "outputs": [],
   "source": [
    "from bs4 import BeautifulSoup as bs"
   ]
  },
  {
   "cell_type": "code",
   "execution_count": 5,
   "id": "bb157e99",
   "metadata": {},
   "outputs": [],
   "source": [
    "data=bs(data,\"html.parser\")"
   ]
  },
  {
   "cell_type": "code",
   "execution_count": 6,
   "id": "35252ce0",
   "metadata": {},
   "outputs": [],
   "source": [
    "values=data.find_all(\"div\", class_= \"maincounter-number\")"
   ]
  },
  {
   "cell_type": "code",
   "execution_count": 7,
   "id": "4a6a0ed9",
   "metadata": {},
   "outputs": [],
   "source": [
    "values_list=[ ]"
   ]
  },
  {
   "cell_type": "code",
   "execution_count": 8,
   "id": "b31c943f",
   "metadata": {},
   "outputs": [
    {
     "data": {
      "text/plain": [
       "['581,933,473 ', '6,419,418', '551,926,533']"
      ]
     },
     "execution_count": 8,
     "metadata": {},
     "output_type": "execute_result"
    }
   ],
   "source": [
    "for i in values:\n",
    "    values_list.append (i.span.text)\n",
    "values_list"
   ]
  },
  {
   "cell_type": "code",
   "execution_count": 9,
   "id": "88273b3c",
   "metadata": {},
   "outputs": [],
   "source": [
    "d={\"coronovirus\":values_list[0], \"Deaths\":values_list[1],\"Recovered\":values_list[2]}"
   ]
  },
  {
   "cell_type": "code",
   "execution_count": 10,
   "id": "ebc2348c",
   "metadata": {},
   "outputs": [],
   "source": [
    "import pandas as pd"
   ]
  },
  {
   "cell_type": "code",
   "execution_count": 11,
   "id": "f33d1a82",
   "metadata": {},
   "outputs": [],
   "source": [
    "df=pd.DataFrame(d,index=[0])"
   ]
  },
  {
   "cell_type": "code",
   "execution_count": 12,
   "id": "280092f8",
   "metadata": {},
   "outputs": [
    {
     "data": {
      "text/html": [
       "<div>\n",
       "<style scoped>\n",
       "    .dataframe tbody tr th:only-of-type {\n",
       "        vertical-align: middle;\n",
       "    }\n",
       "\n",
       "    .dataframe tbody tr th {\n",
       "        vertical-align: top;\n",
       "    }\n",
       "\n",
       "    .dataframe thead th {\n",
       "        text-align: right;\n",
       "    }\n",
       "</style>\n",
       "<table border=\"1\" class=\"dataframe\">\n",
       "  <thead>\n",
       "    <tr style=\"text-align: right;\">\n",
       "      <th></th>\n",
       "      <th>coronovirus</th>\n",
       "      <th>Deaths</th>\n",
       "      <th>Recovered</th>\n",
       "    </tr>\n",
       "  </thead>\n",
       "  <tbody>\n",
       "    <tr>\n",
       "      <th>0</th>\n",
       "      <td>581,933,473</td>\n",
       "      <td>6,419,418</td>\n",
       "      <td>551,926,533</td>\n",
       "    </tr>\n",
       "  </tbody>\n",
       "</table>\n",
       "</div>"
      ],
      "text/plain": [
       "    coronovirus     Deaths    Recovered\n",
       "0  581,933,473   6,419,418  551,926,533"
      ]
     },
     "execution_count": 12,
     "metadata": {},
     "output_type": "execute_result"
    }
   ],
   "source": [
    "df"
   ]
  }
 ],
 "metadata": {
  "kernelspec": {
   "display_name": "Python 3",
   "language": "python",
   "name": "python3"
  },
  "language_info": {
   "codemirror_mode": {
    "name": "ipython",
    "version": 3
   },
   "file_extension": ".py",
   "mimetype": "text/x-python",
   "name": "python",
   "nbconvert_exporter": "python",
   "pygments_lexer": "ipython3",
   "version": "3.8.8"
  }
 },
 "nbformat": 4,
 "nbformat_minor": 5
}
